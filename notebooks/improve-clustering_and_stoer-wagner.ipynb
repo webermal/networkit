{
 "cells": [
  {
   "cell_type": "markdown",
   "metadata": {},
   "source": [
    "# Improve Algorithm for Graph Clustering\n",
    "\n",
    "## Introduction\n",
    "\n",
    "The goal of this project is to implement an algorithm that improves a given solution for the\n",
    "graph clustering problem via the max-flow problem. This is implemented in the `ImproveClustering` calass, which contains the actual improve method and makes use of the existing Edmonds-Karp implementation.\n",
    "\n",
    "This part was worked on by Malte Weber.\n",
    "\n",
    "\n",
    "# Implementation of the Stoer-Wagner Minimum Cut Algorithm\n",
    "\n",
    "## Introduction\n",
    "\n",
    "The Stoer-Wagner algorithm is a polynomial-time algorithm that solves the minimum cut problem for\n",
    "undirected graphs. It is divided into phases, each of them computing a minimum $s$-$t$ cut for two\n",
    "vertices $s, t$ chosen by the algorithm. The graph is then shrunk by merging these two vertices, thus\n",
    "the remaining phases consider all the cuts where $s$ and $t$ are in the same subset.\n",
    "\n",
    "This part was worked on by Johannes Lange.\n",
    "\n",
    "## Member Variables\n",
    "\n",
    "The `MinCutStoerWagner` class contains the following important member variables:\n",
    "- `G`: A pointer to the input graph.\n",
    "- `current_graph`: A reference to the current graph produced by the most recent phase.\n",
    "- `pq`: A bucket priority queue for the vertices of `current_graph`.\n",
    "- `node_mapping`: The mapping of the vertices in `G` to the vertices in `current_graph` produced by the shrinking in each phase.\n",
    "- `result`: A reference to the final result of the algorithm.\n",
    "\n",
    "## Data Structures\n",
    "\n",
    "In each phase, the vertices are selected based on their connection to $A$. Hence,\n",
    "the vertices of `current_graph` are stored in a\n",
    "`BucketPQ` such that each vertex $v$ is mapped to its cut $c$ with $A$, i. e. the cut between $A$ and $\\{ v \\}$.\n",
    "Since the priority queue implementation only allows min-element extraction, the algorithm stores the\n",
    "key-value pair $(-c, v)$.\n",
    "\n",
    "## Methods\n",
    "\n",
    "The `MinCutStoerWagner` class contains the following important methods:\n",
    "- `void run()`: Executes all phases and saves the best solution.\n",
    "- `void fillQueue(node a)`: Fills the priority queue with the node keys for $A := \\{ a \\}$.\n",
    "- `void updateKeys(node u, Partition& A)`: Updates the keys of all vertices $v$ that are adjacent to $u$ and are yet to be considered, i. e. $v$ belongs to partition $0$ in $A$.\n",
    "- `Partition phase(node a)`: Executes the next phase on `current_graph`. At the end of the phase's execution, it shrinks `current_graph` and returns the cut-of-the-phase. This method also takes care of updating the `pq` and `node_mapping` member variables accordingly.\n",
    "\n",
    "## Experimental Evaluation\n",
    "\n",
    "# Conclusion\n",
    "\n"
   ]
  },
  {
   "cell_type": "code",
   "execution_count": null,
   "metadata": {},
   "outputs": [],
   "source": []
  }
 ],
 "metadata": {
  "kernelspec": {
   "display_name": "Python 3",
   "language": "python",
   "name": "python3"
  },
  "language_info": {
   "codemirror_mode": {
    "name": "ipython",
    "version": 3
   },
   "file_extension": ".py",
   "mimetype": "text/x-python",
   "name": "python",
   "nbconvert_exporter": "python",
   "pygments_lexer": "ipython3",
   "version": "3.8.5"
  }
 },
 "nbformat": 4,
 "nbformat_minor": 4
}
